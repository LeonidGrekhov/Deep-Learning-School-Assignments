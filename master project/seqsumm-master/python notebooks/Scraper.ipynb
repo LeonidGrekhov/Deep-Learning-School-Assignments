{
  "nbformat": 4,
  "nbformat_minor": 0,
  "metadata": {
    "colab": {
      "provenance": []
    },
    "kernelspec": {
      "name": "python3",
      "display_name": "Python 3"
    },
    "language_info": {
      "name": "python"
    }
  },
  "cells": [
    {
      "cell_type": "markdown",
      "source": [
        "### This script scrapes news articles"
      ],
      "metadata": {
        "id": "x22JGKrbvdl2"
      }
    },
    {
      "cell_type": "code",
      "execution_count": null,
      "metadata": {
        "colab": {
          "base_uri": "https://localhost:8080/"
        },
        "id": "a4vGuPe7sZnI",
        "outputId": "caacd0ad-6c5a-4711-873f-6ff879231f40"
      },
      "outputs": [
        {
          "output_type": "stream",
          "name": "stdout",
          "text": [
            "Looking in indexes: https://pypi.org/simple, https://us-python.pkg.dev/colab-wheels/public/simple/\n",
            "Requirement already satisfied: nltk in /usr/local/lib/python3.7/dist-packages (3.7)\n",
            "Requirement already satisfied: joblib in /usr/local/lib/python3.7/dist-packages (from nltk) (1.2.0)\n",
            "Requirement already satisfied: tqdm in /usr/local/lib/python3.7/dist-packages (from nltk) (4.64.1)\n",
            "Requirement already satisfied: click in /usr/local/lib/python3.7/dist-packages (from nltk) (7.1.2)\n",
            "Requirement already satisfied: regex>=2021.8.3 in /usr/local/lib/python3.7/dist-packages (from nltk) (2022.6.2)\n",
            "Looking in indexes: https://pypi.org/simple, https://us-python.pkg.dev/colab-wheels/public/simple/\n",
            "Collecting newspaper3k\n",
            "  Downloading newspaper3k-0.2.8-py3-none-any.whl (211 kB)\n",
            "\u001b[K     |████████████████████████████████| 211 kB 4.3 MB/s \n",
            "\u001b[?25hCollecting feedparser>=5.2.1\n",
            "  Downloading feedparser-6.0.10-py3-none-any.whl (81 kB)\n",
            "\u001b[K     |████████████████████████████████| 81 kB 8.7 MB/s \n",
            "\u001b[?25hRequirement already satisfied: beautifulsoup4>=4.4.1 in /usr/local/lib/python3.7/dist-packages (from newspaper3k) (4.6.3)\n",
            "Requirement already satisfied: Pillow>=3.3.0 in /usr/local/lib/python3.7/dist-packages (from newspaper3k) (7.1.2)\n",
            "Collecting tldextract>=2.0.1\n",
            "  Downloading tldextract-3.4.0-py3-none-any.whl (93 kB)\n",
            "\u001b[K     |████████████████████████████████| 93 kB 2.1 MB/s \n",
            "\u001b[?25hRequirement already satisfied: lxml>=3.6.0 in /usr/local/lib/python3.7/dist-packages (from newspaper3k) (4.9.1)\n",
            "Collecting feedfinder2>=0.0.4\n",
            "  Downloading feedfinder2-0.0.4.tar.gz (3.3 kB)\n",
            "Requirement already satisfied: nltk>=3.2.1 in /usr/local/lib/python3.7/dist-packages (from newspaper3k) (3.7)\n",
            "Requirement already satisfied: PyYAML>=3.11 in /usr/local/lib/python3.7/dist-packages (from newspaper3k) (6.0)\n",
            "Collecting cssselect>=0.9.2\n",
            "  Downloading cssselect-1.2.0-py2.py3-none-any.whl (18 kB)\n",
            "Collecting tinysegmenter==0.3\n",
            "  Downloading tinysegmenter-0.3.tar.gz (16 kB)\n",
            "Collecting jieba3k>=0.35.1\n",
            "  Downloading jieba3k-0.35.1.zip (7.4 MB)\n",
            "\u001b[K     |████████████████████████████████| 7.4 MB 49.5 MB/s \n",
            "\u001b[?25hRequirement already satisfied: requests>=2.10.0 in /usr/local/lib/python3.7/dist-packages (from newspaper3k) (2.23.0)\n",
            "Requirement already satisfied: python-dateutil>=2.5.3 in /usr/local/lib/python3.7/dist-packages (from newspaper3k) (2.8.2)\n",
            "Requirement already satisfied: six in /usr/local/lib/python3.7/dist-packages (from feedfinder2>=0.0.4->newspaper3k) (1.15.0)\n",
            "Collecting sgmllib3k\n",
            "  Downloading sgmllib3k-1.0.0.tar.gz (5.8 kB)\n",
            "Requirement already satisfied: click in /usr/local/lib/python3.7/dist-packages (from nltk>=3.2.1->newspaper3k) (7.1.2)\n",
            "Requirement already satisfied: tqdm in /usr/local/lib/python3.7/dist-packages (from nltk>=3.2.1->newspaper3k) (4.64.1)\n",
            "Requirement already satisfied: joblib in /usr/local/lib/python3.7/dist-packages (from nltk>=3.2.1->newspaper3k) (1.2.0)\n",
            "Requirement already satisfied: regex>=2021.8.3 in /usr/local/lib/python3.7/dist-packages (from nltk>=3.2.1->newspaper3k) (2022.6.2)\n",
            "Requirement already satisfied: urllib3!=1.25.0,!=1.25.1,<1.26,>=1.21.1 in /usr/local/lib/python3.7/dist-packages (from requests>=2.10.0->newspaper3k) (1.24.3)\n",
            "Requirement already satisfied: chardet<4,>=3.0.2 in /usr/local/lib/python3.7/dist-packages (from requests>=2.10.0->newspaper3k) (3.0.4)\n",
            "Requirement already satisfied: idna<3,>=2.5 in /usr/local/lib/python3.7/dist-packages (from requests>=2.10.0->newspaper3k) (2.10)\n",
            "Requirement already satisfied: certifi>=2017.4.17 in /usr/local/lib/python3.7/dist-packages (from requests>=2.10.0->newspaper3k) (2022.9.24)\n",
            "Collecting requests-file>=1.4\n",
            "  Downloading requests_file-1.5.1-py2.py3-none-any.whl (3.7 kB)\n",
            "Requirement already satisfied: filelock>=3.0.8 in /usr/local/lib/python3.7/dist-packages (from tldextract>=2.0.1->newspaper3k) (3.8.0)\n",
            "Building wheels for collected packages: tinysegmenter, feedfinder2, jieba3k, sgmllib3k\n",
            "  Building wheel for tinysegmenter (setup.py) ... \u001b[?25l\u001b[?25hdone\n",
            "  Created wheel for tinysegmenter: filename=tinysegmenter-0.3-py3-none-any.whl size=13552 sha256=d7b53a6af6d1eeb11b2ffb3c53ca7a555381d1ba7b3148ced7a1945bfae18c32\n",
            "  Stored in directory: /root/.cache/pip/wheels/df/67/41/faca10fa501ca010be41b49d40360c2959e1c4f09bcbfa37fa\n",
            "  Building wheel for feedfinder2 (setup.py) ... \u001b[?25l\u001b[?25hdone\n",
            "  Created wheel for feedfinder2: filename=feedfinder2-0.0.4-py3-none-any.whl size=3357 sha256=683e8cf74d71ee6b25321ea888964ad65bb556ed004432785fa4512b0318f9dc\n",
            "  Stored in directory: /root/.cache/pip/wheels/7f/d4/8f/6e2ca54744c9d7292d88ddb8d42876bcdab5e6d84a21c10346\n",
            "  Building wheel for jieba3k (setup.py) ... \u001b[?25l\u001b[?25hdone\n",
            "  Created wheel for jieba3k: filename=jieba3k-0.35.1-py3-none-any.whl size=7398404 sha256=15d6c8f5e24da6b2765d009c627f1ce49e4ffa7f96558b6cbe1bda22bff36b4b\n",
            "  Stored in directory: /root/.cache/pip/wheels/4c/91/46/3c208287b726df325a5979574324878b679116e4baae1af3c3\n",
            "  Building wheel for sgmllib3k (setup.py) ... \u001b[?25l\u001b[?25hdone\n",
            "  Created wheel for sgmllib3k: filename=sgmllib3k-1.0.0-py3-none-any.whl size=6065 sha256=e8d9ad4faf4005b91e06008a6adf85d71e291f4f5a944a7cb25b696ff522943c\n",
            "  Stored in directory: /root/.cache/pip/wheels/73/ad/a4/0dff4a6ef231fc0dfa12ffbac2a36cebfdddfe059f50e019aa\n",
            "Successfully built tinysegmenter feedfinder2 jieba3k sgmllib3k\n",
            "Installing collected packages: sgmllib3k, requests-file, tldextract, tinysegmenter, jieba3k, feedparser, feedfinder2, cssselect, newspaper3k\n",
            "Successfully installed cssselect-1.2.0 feedfinder2-0.0.4 feedparser-6.0.10 jieba3k-0.35.1 newspaper3k-0.2.8 requests-file-1.5.1 sgmllib3k-1.0.0 tinysegmenter-0.3 tldextract-3.4.0\n"
          ]
        }
      ],
      "source": [
        "# Download the necessary packages\n",
        "!pip install nltk\n",
        "!pip install newspaper3k"
      ]
    },
    {
      "cell_type": "code",
      "source": [
        "# Import libraries\n",
        "from newspaper import Article, Config\n",
        "import nltk\n"
      ],
      "metadata": {
        "id": "BYBFsrKKs77j"
      },
      "execution_count": null,
      "outputs": []
    },
    {
      "cell_type": "code",
      "source": [
        "user_agent = 'Mozilla/5.0 (Macintosh; Intel Mac OS X 10_11_5) AppleWebKit/537.36 (KHTML, like Gecko) Chrome/50.0.2661.102 Safari/537.36'\n",
        "config = Config()\n",
        "config.browser_user_agent = user_agent\n",
        "\n",
        "# Getting the article\n",
        "# url = \"https://www.cnn.com/2022/09/12/uk/queen-elizabeth-death-monday-intl-gbr/index.html\" # Working\n",
        "# url = \"https://www.wsj.com/articles/netflix-explores-investing-in-sports-leagues-bidding-on-streaming-rights-11667930861\" #Not working\n",
        "# url = \"https://www.tweaktown.com/news/89458/elon-musk-drops-new-rules-for-twitter-parody-or-impersonation-accounts/index.html\" #Working\n",
        "# url = \"https://skift.com/2022/11/11/car-rental-app-kyte-raises-60-million-travel-startup-funding-this-week/\" #Working\n",
        "url = \"https://www.foxbusiness.com/technology/elon-musk-says-fake-twitter-accounts-must-have-parody-in-name-after-flood-of-accounts-impersonating-people\"\n",
        "article = Article(url, confi = config)"
      ],
      "metadata": {
        "id": "ua6PnXHytE-O"
      },
      "execution_count": null,
      "outputs": []
    },
    {
      "cell_type": "code",
      "source": [
        "# Performing basic NLP\n",
        "\n",
        "\n",
        "# page = Article(\"https://www.newsweek.com/donald-trump-hillary-clinton-2020-rally-orlando-1444697\", config=config)\n",
        "# page.download()\n",
        "# page.parse()\n",
        "# print(page.text)\n",
        "\n",
        "\n",
        "article.download()\n",
        "article.parse()\n",
        "nltk.download('punkt')\n",
        "article.nlp()"
      ],
      "metadata": {
        "colab": {
          "base_uri": "https://localhost:8080/"
        },
        "id": "aviwPG1itqHd",
        "outputId": "528942e5-7653-4c97-8880-574befa41ad6"
      },
      "execution_count": null,
      "outputs": [
        {
          "output_type": "stream",
          "name": "stderr",
          "text": [
            "[nltk_data] Downloading package punkt to /root/nltk_data...\n",
            "[nltk_data]   Package punkt is already up-to-date!\n"
          ]
        }
      ]
    },
    {
      "cell_type": "code",
      "source": [
        "# Getting articles author\n",
        "article.authors"
      ],
      "metadata": {
        "colab": {
          "base_uri": "https://localhost:8080/"
        },
        "id": "IILewmLEuFET",
        "outputId": "12750e80-c425-441a-f4a4-355b573b1549"
      },
      "execution_count": null,
      "outputs": [
        {
          "output_type": "execute_result",
          "data": {
            "text/plain": [
              "['Lauren Said-Moorhouse Jack Guy Max Foster Arnaud Siad',\n",
              " 'Lauren Said-Moorhouse',\n",
              " 'Jack Guy',\n",
              " 'Max Foster',\n",
              " 'Arnaud Siad']"
            ]
          },
          "metadata": {},
          "execution_count": 10
        }
      ]
    },
    {
      "cell_type": "code",
      "source": [
        "# Getting articles published date\n",
        "article.publish_date"
      ],
      "metadata": {
        "colab": {
          "base_uri": "https://localhost:8080/"
        },
        "id": "ml1nDfoluNxo",
        "outputId": "459ca42a-55f9-4a13-b78e-61d850d6030a"
      },
      "execution_count": null,
      "outputs": [
        {
          "output_type": "execute_result",
          "data": {
            "text/plain": [
              "datetime.datetime(2022, 9, 12, 0, 0)"
            ]
          },
          "metadata": {},
          "execution_count": 11
        }
      ]
    },
    {
      "cell_type": "code",
      "source": [
        "# Getting the link for the article image\n",
        "article.top_image"
      ],
      "metadata": {
        "colab": {
          "base_uri": "https://localhost:8080/",
          "height": 35
        },
        "id": "jDyQPUgKuZfo",
        "outputId": "3bef9113-ff83-403d-e5eb-a65f62bd7633"
      },
      "execution_count": null,
      "outputs": [
        {
          "output_type": "execute_result",
          "data": {
            "text/plain": [
              "'https://media.cnn.com/api/v1/images/stellar/prod/220912055444-03-king-charles-parliament-0912.jpg?q=w_800,c_fill'"
            ],
            "application/vnd.google.colaboratory.intrinsic+json": {
              "type": "string"
            }
          },
          "metadata": {},
          "execution_count": 13
        }
      ]
    },
    {
      "cell_type": "code",
      "source": [
        "# Getting the text in the article\n",
        "print(article.text)"
      ],
      "metadata": {
        "colab": {
          "base_uri": "https://localhost:8080/"
        },
        "id": "J4mAQ2ldujon",
        "outputId": "5f4961c0-52b5-448f-d5f3-9353e6276166"
      },
      "execution_count": null,
      "outputs": [
        {
          "output_type": "stream",
          "name": "stdout",
          "text": [
            "Elon Musk is trying to set parameters after a wave of fake but verified accounts flooded Twitter this week following the company’s rollout of the $8-a-month verification policy.\n",
            "\n",
            "On Thursday, Musk said accounts engaged in parody must henceforth include \"parody\" in their name, not just in their bio.\n",
            "\n",
            "\"To be more precise, accounts doing parody impersonations,\" Musk said. \"Basically, tricking people is not okay.\"\n",
            "\n",
            "MUSK TELLS TWITTER EMPLOYEES TO SHOW UP AT THE OFFICE OR ‘RESIGNATION ACCEPTED’\n",
            "\n",
            "Previously, Musk said Twitter will permanently suspend any account engaging in impersonation without clearly specifying \"parody.\"\n",
            "\n",
            "Since then, a flood of accounts purporting to be famous people and brands – everyone from LeBron James to George W. Bush to Nintendo – have popped up on the platform, stoking even more chaos after Musk’s tumultuous takeover of the company late last month.\n",
            "\n",
            "Many of these parody accounts included the name of the person or company in the handle alongside the blue verification checkmark. This made it impossible to know these were parody accounts without clicking on the profiles and seeing the bios.\n",
            "\n",
            "CLICK HERE TO GET THE FOX BUSINESS APP\n",
            "\n",
            "Earlier Thursday, a fake account purporting to be Indianapolis-based pharmaceutical company Eli Lilly said it was offering free insulin. By evening, the company logo had been removed from the avatar and the tweet had been taken down for violating the company's rules.\n"
          ]
        }
      ]
    },
    {
      "cell_type": "code",
      "source": [
        "# Get a summary of the article\n",
        "print(article.summary)"
      ],
      "metadata": {
        "colab": {
          "base_uri": "https://localhost:8080/"
        },
        "id": "pXw1l9Uxuw-d",
        "outputId": "cd768f1b-ed5e-4fc5-cdec-dc0696342fa2"
      },
      "execution_count": null,
      "outputs": [
        {
          "output_type": "stream",
          "name": "stdout",
          "text": [
            "London CNN —King Charles III was joined by his siblings – Princes Andrew and Edward, and Princess Anne – as they briefly held vigil around Queen Elizabeth II’s coffin on Monday evening.\n",
            "The royal family mounted their guard of the coffin at St. Giles’ Cathedral in Edinburgh, Scotland, where it will lie until Tuesday evening.\n",
            "Earlier Monday, a short service of thanksgiving took place at the cathedral following a procession from the Palace of Holyroodhouse.\n",
            "King Charles, Princess Anne and Prince Andrew walk behind the hearse carrying the coffin of Queen Elizabeth II, in Edinburgh, Scotland.\n",
            "He also went to the Scottish Parliament to receive a motion of condolence.\n"
          ]
        }
      ]
    },
    {
      "cell_type": "code",
      "source": [],
      "metadata": {
        "id": "STjU3mfdwGbb"
      },
      "execution_count": null,
      "outputs": []
    }
  ]
}