{
 "cells": [
  {
   "cell_type": "code",
   "execution_count": null,
   "metadata": {
    "id": "zzUwfeWnYp1o"
   },
   "outputs": [],
   "source": [
    "import tensorflow as tf\n",
    "\n",
    "print(tf.__version__)"
   ]
  },
  {
   "cell_type": "markdown",
   "metadata": {
    "id": "C-cNW7D2bUhZ"
   },
   "source": [
    "# Tensorflow Variable Examples"
   ]
  },
  {
   "cell_type": "code",
   "execution_count": null,
   "metadata": {
    "id": "sGiDRzrAbLLK"
   },
   "outputs": [],
   "source": [
    "a = tf.constant([[1, 2],\n",
    "                 [3, 4]])\n",
    "print(a)"
   ]
  },
  {
   "cell_type": "code",
   "execution_count": null,
   "metadata": {
    "id": "0qX4e8ZObOkY"
   },
   "outputs": [],
   "source": [
    "# Broadcasting support\n",
    "b = tf.add(a, 1)\n",
    "print(b)"
   ]
  },
  {
   "cell_type": "code",
   "execution_count": null,
   "metadata": {
    "id": "zNvMQYWpbSgd"
   },
   "outputs": [],
   "source": [
    "# Operator overloading is supported\n",
    "print(a * b)"
   ]
  },
  {
   "cell_type": "code",
   "execution_count": null,
   "metadata": {
    "id": "N_j3Ag4DYeL6"
   },
   "outputs": [],
   "source": [
    "# Can specify a data type for tf variables\n",
    "a = tf.constant(3.0, dtype=tf.float32)\n",
    "b = tf.constant(4.0, dtype=tf.float32)\n",
    "\n",
    "c = a+b\n",
    "print(c)"
   ]
  },
  {
   "cell_type": "code",
   "execution_count": null,
   "metadata": {
    "id": "1iHIXcvwbgnS"
   },
   "outputs": [],
   "source": [
    "# Use NumPy values\n",
    "import numpy as np\n",
    "\n",
    "c = np.multiply(a, b)\n",
    "print(c)\n",
    "print(type(c))"
   ]
  },
  {
   "cell_type": "code",
   "execution_count": null,
   "metadata": {
    "id": "FomavtPdblLa"
   },
   "outputs": [],
   "source": [
    "# Obtain numpy value from a tensor:\n",
    "print(a.numpy())\n",
    "print(type(a))\n",
    "print(type(a.numpy()))"
   ]
  },
  {
   "cell_type": "markdown",
   "metadata": {
    "id": "eSufXtEtb3KS"
   },
   "source": [
    "# Simple Neural Network with Keras"
   ]
  },
  {
   "cell_type": "code",
   "execution_count": null,
   "metadata": {},
   "outputs": [],
   "source": [
    "inputs = np.linspace(-2*np.pi, 2*np.pi, 10000)[:, None]\n",
    "outputs = inputs + 8 * np.random.normal(size=[len(inputs),1])\n",
    "print(inputs.shape)\n",
    "print(outputs.shape)\n",
    "import matplotlib.pyplot as plt\n",
    "plt.scatter(inputs[:, 0], outputs[:, 0], s=0.1, color='k', marker='o')"
   ]
  },
  {
   "cell_type": "code",
   "execution_count": null,
   "metadata": {},
   "outputs": [],
   "source": [
    "# Create a linear model\n",
    "linear_model = tf.keras.Sequential([tf.keras.layers.Dense(1)])"
   ]
  },
  {
   "cell_type": "code",
   "execution_count": null,
   "metadata": {},
   "outputs": [],
   "source": [
    "# Get results from an untrained model\n",
    "linear_predictions = linear_model(inputs)\n",
    "print(linear_predictions)"
   ]
  },
  {
   "cell_type": "code",
   "execution_count": null,
   "metadata": {},
   "outputs": [],
   "source": [
    "# Plot the untrained results\n",
    "plt.scatter(inputs[:, 0], outputs[:, 0], s=0.1, color='k', marker='o')\n",
    "plt.plot(inputs[:, 0], linear_predictions[:, 0])"
   ]
  },
  {
   "cell_type": "code",
   "execution_count": null,
   "metadata": {},
   "outputs": [],
   "source": [
    "# Get Loss from library\n",
    "example_loss = tf.keras.losses.MeanSquaredError()\n",
    "# Compile the model with an optimizer\n",
    "linear_model.compile(optimizer='SGD',\n",
    "                     loss=example_loss,\n",
    "                     metrics=['mean_squared_error'])"
   ]
  },
  {
   "cell_type": "code",
   "execution_count": null,
   "metadata": {},
   "outputs": [],
   "source": [
    "linear_model.fit(inputs,outputs,epochs=1)"
   ]
  },
  {
   "cell_type": "code",
   "execution_count": null,
   "metadata": {},
   "outputs": [],
   "source": [
    "linear_predict = linear_model.predict(inputs)"
   ]
  },
  {
   "cell_type": "code",
   "execution_count": null,
   "metadata": {},
   "outputs": [],
   "source": [
    "# Plot the trained results\n",
    "plt.scatter(inputs[:, 0], outputs[:, 0], s=0.1, color='k', marker='o')\n",
    "plt.plot(inputs[:, 0], linear_predict[:, 0])"
   ]
  },
  {
   "cell_type": "markdown",
   "metadata": {},
   "source": [
    "## Utilizing a more Complecated Example"
   ]
  },
  {
   "cell_type": "code",
   "execution_count": null,
   "metadata": {
    "id": "zOySBZNBZAaE"
   },
   "outputs": [],
   "source": [
    "# Input data\n",
    "import numpy as np\n",
    "inputs = np.linspace(-2*np.pi, 2*np.pi, 10000)[:, None]\n",
    "outputs = np.sin(inputs) + 0.05 * np.random.normal(size=[len(inputs),1])\n",
    "print(inputs.shape)\n",
    "print(outputs.shape)\n",
    "import matplotlib.pyplot as plt\n",
    "plt.scatter(inputs[:, 0], outputs[:, 0], s=0.1, color='k', marker='o')"
   ]
  },
  {
   "cell_type": "code",
   "execution_count": null,
   "metadata": {
    "id": "KsnzHSdsZJAU"
   },
   "outputs": [],
   "source": [
    "# Create a linear model\n",
    "linear_model = tf.keras.Sequential([tf.keras.layers.Dense(1)])"
   ]
  },
  {
   "cell_type": "code",
   "execution_count": null,
   "metadata": {
    "id": "kGFPKugVu_Z9"
   },
   "outputs": [],
   "source": [
    "# Get results from an untrained model\n",
    "linear_predictions = linear_model(inputs)\n",
    "print(linear_predictions)"
   ]
  },
  {
   "cell_type": "code",
   "execution_count": null,
   "metadata": {
    "id": "Eq7TUoh1vY0s"
   },
   "outputs": [],
   "source": [
    "# Plot the untrained results\n",
    "plt.scatter(inputs[:, 0], outputs[:, 0], s=0.1, color='k', marker='o')\n",
    "plt.plot(inputs[:, 0], linear_predictions[:, 0])"
   ]
  },
  {
   "cell_type": "markdown",
   "metadata": {
    "id": "tdxEocQw10XS"
   },
   "source": [
    "Basic layer is linear, can change activation to see different outputs"
   ]
  },
  {
   "cell_type": "code",
   "execution_count": null,
   "metadata": {
    "id": "XiSncaTF1mAA"
   },
   "outputs": [],
   "source": [
    "# Create a Deep Model\n",
    "sample_model = tf.keras.Sequential([\n",
    "                                    tf.keras.layers.Dense(16,activation='relu',input_shape=[1,]),\n",
    "                                    tf.keras.layers.Dense(1)\n",
    "                                    ])"
   ]
  },
  {
   "cell_type": "code",
   "execution_count": null,
   "metadata": {
    "id": "DBvF7Sauxzif"
   },
   "outputs": [],
   "source": [
    "# Compile the model with an optimizer\n",
    "sample_model.compile(optimizer='adam',\n",
    "                     loss=example_loss,\n",
    "                     metrics=['mean_squared_error'])"
   ]
  },
  {
   "cell_type": "code",
   "execution_count": null,
   "metadata": {
    "id": "ORAW3Hw1uyip"
   },
   "outputs": [],
   "source": [
    "# Can print out the details of the model after compileing\n",
    "sample_model.summary()"
   ]
  },
  {
   "cell_type": "code",
   "execution_count": null,
   "metadata": {
    "id": "otYz8eaPu5Rz"
   },
   "outputs": [],
   "source": [
    "sample_model.fit(inputs,outputs,epochs=5)"
   ]
  },
  {
   "cell_type": "code",
   "execution_count": null,
   "metadata": {
    "id": "bXDNgaURyIBI"
   },
   "outputs": [],
   "source": [
    "sample_predict = sample_model.predict(inputs)"
   ]
  },
  {
   "cell_type": "code",
   "execution_count": null,
   "metadata": {
    "id": "tdzKUmSOyeQi"
   },
   "outputs": [],
   "source": [
    "# Plot the untrained results\n",
    "plt.scatter(inputs[:, 0], outputs[:, 0], s=0.1, color='k', marker='o')\n",
    "plt.plot(inputs[:, 0], sample_predict[:, 0])"
   ]
  },
  {
   "cell_type": "code",
   "execution_count": null,
   "metadata": {
    "id": "h2GICuUg29aS"
   },
   "outputs": [],
   "source": []
  }
 ],
 "metadata": {
  "colab": {
   "name": "demo01.ipynb",
   "provenance": []
  },
  "kernelspec": {
   "display_name": "Python 3",
   "language": "python",
   "name": "python3"
  },
  "language_info": {
   "codemirror_mode": {
    "name": "ipython",
    "version": 3
   },
   "file_extension": ".py",
   "mimetype": "text/x-python",
   "name": "python",
   "nbconvert_exporter": "python",
   "pygments_lexer": "ipython3",
   "version": "3.9.4"
  }
 },
 "nbformat": 4,
 "nbformat_minor": 1
}
