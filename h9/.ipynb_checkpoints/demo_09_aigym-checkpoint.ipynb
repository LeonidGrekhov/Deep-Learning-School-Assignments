{
 "cells": [
  {
   "cell_type": "code",
   "execution_count": null,
   "metadata": {
    "id": "BZEfYA0hf-fH"
   },
   "outputs": [],
   "source": [
    "import gym"
   ]
  },
  {
   "cell_type": "code",
   "execution_count": null,
   "metadata": {
    "id": "LOR3dywCf-fK"
   },
   "outputs": [],
   "source": [
    "# Load your gym environment\n",
    "env = gym.make(\"Taxi-v3\")"
   ]
  },
  {
   "cell_type": "code",
   "execution_count": null,
   "metadata": {
    "id": "gnxXFTDzf-fM"
   },
   "outputs": [],
   "source": [
    "# Reset and return to original state\n",
    "env.reset()"
   ]
  },
  {
   "cell_type": "code",
   "execution_count": null,
   "metadata": {
    "id": "xJYvkqsMf-fP"
   },
   "outputs": [],
   "source": [
    "# Visualize the problem\n",
    "env.render()"
   ]
  },
  {
   "cell_type": "markdown",
   "metadata": {
    "id": "AwGn_9JHf-fR"
   },
   "source": [
    "R, G, Y, B are the possible pickup and destination locations. The blue letter represents the current passenger pick-up location, and the purple letter is the current destination."
   ]
  },
  {
   "cell_type": "code",
   "execution_count": null,
   "metadata": {
    "id": "6YAFnj_Lf-fS"
   },
   "outputs": [],
   "source": [
    "# What are the possible actions we can take in this environment\n",
    "print(\"Action Space {}\".format(env.action_space))"
   ]
  },
  {
   "cell_type": "markdown",
   "metadata": {
    "id": "kf9Oon3Qf-fT"
   },
   "source": [
    "### Action Space Inference\n",
    "The 6 discrete options are:\n",
    "* 0 = south\n",
    "* 1 = north\n",
    "* 2 = east\n",
    "* 3 = west\n",
    "* 4 = pickup\n",
    "* 5 = dropoff"
   ]
  },
  {
   "cell_type": "code",
   "execution_count": null,
   "metadata": {
    "id": "7ErO80jCf-fU"
   },
   "outputs": [],
   "source": [
    "# What are the possible observations?\n",
    "# Possible combinations of where the taxi is and what it did\n",
    "print(\"State Space {}\".format(env.observation_space))"
   ]
  },
  {
   "cell_type": "markdown",
   "metadata": {
    "id": "7Idjlxtof-fW"
   },
   "source": [
    "### Observation space inference\n",
    "The 500 discrete options represent a encoding of the taxi's location, the passenger's location, and the destination location"
   ]
  },
  {
   "cell_type": "code",
   "execution_count": null,
   "metadata": {
    "id": "dY1dtNZVf-fW"
   },
   "outputs": [],
   "source": [
    "# Attemp to take a step down\n",
    "state, reward, done, info = env.step(3)\n",
    "print(\"State: {}\".format(state))\n",
    "print(\"Reward: {}\".format(reward))\n",
    "print(\"Done: {}\".format(done))\n",
    "print(\"Info: {}\".format(info))"
   ]
  },
  {
   "cell_type": "code",
   "execution_count": null,
   "metadata": {
    "id": "sdfRmP9Ff-fY"
   },
   "outputs": [],
   "source": [
    "env.render()"
   ]
  },
  {
   "cell_type": "code",
   "execution_count": null,
   "metadata": {
    "id": "XvYK7CQQf-fa"
   },
   "outputs": [],
   "source": [
    "pickup = [1, 3, 0, 0, 4]\n",
    "for i in pickup:\n",
    "    state, reward, done, info = env.step(i)\n",
    "    print(\"State: {}\".format(state))\n",
    "    print(\"Reward: {}\".format(reward))\n",
    "    print(\"Done: {}\".format(done))\n",
    "    print(\"Info: {}\".format(info))\n",
    "    env.render()"
   ]
  },
  {
   "cell_type": "code",
   "execution_count": null,
   "metadata": {
    "id": "LwhXqGb0f-fc"
   },
   "outputs": [],
   "source": [
    "# This is where we use the Q learning algorithm."
   ]
  },
  {
   "cell_type": "markdown",
   "metadata": {
    "id": "rQrFsCdPf-fe"
   },
   "source": [
    "### Cartpole Example"
   ]
  },
  {
   "cell_type": "code",
   "execution_count": null,
   "metadata": {
    "id": "xhRVMb1ETZ93"
   },
   "outputs": [],
   "source": [
    "# Rendering in Colab requres extra work\n",
    "!pip install gym pyvirtualdisplay\n",
    "!apt-get install -y xvfb python-opengl ffmpeg"
   ]
  },
  {
   "cell_type": "code",
   "execution_count": null,
   "metadata": {
    "id": "yDFu9HdRTRGk"
   },
   "outputs": [],
   "source": [
    "from gym.wrappers import Monitor\n",
    "import glob\n",
    "import io\n",
    "import base64\n",
    "from IPython.display import HTML\n",
    "from pyvirtualdisplay import Display\n",
    "from IPython import display as ipythondisplay\n",
    "\n",
    "display = Display(visible=0, size=(1400, 900))\n",
    "display.start()\n",
    "\n",
    "\"\"\"\n",
    "Utility functions to enable video recording of gym environment \n",
    "and displaying it.\n",
    "To enable video, just do \"env = wrap_env(env)\"\"\n",
    "\"\"\"\n",
    "\n",
    "def show_video():\n",
    "  mp4list = glob.glob('video/*.mp4')\n",
    "  if len(mp4list) > 0:\n",
    "    mp4 = mp4list[0]\n",
    "    video = io.open(mp4, 'r+b').read()\n",
    "    encoded = base64.b64encode(video)\n",
    "    ipythondisplay.display(HTML(data='''<video alt=\"test\" autoplay \n",
    "                loop controls style=\"height: 400px;\">\n",
    "                <source src=\"data:video/mp4;base64,{0}\" type=\"video/mp4\" />\n",
    "             </video>'''.format(encoded.decode('ascii'))))\n",
    "  else: \n",
    "    print(\"Could not find video\")\n",
    "    \n",
    "\n",
    "def wrap_env(env):\n",
    "  env = Monitor(env, './video', force=True)\n",
    "  return env"
   ]
  },
  {
   "cell_type": "code",
   "execution_count": null,
   "metadata": {
    "id": "c4v7_pZUf-fe"
   },
   "outputs": [],
   "source": [
    "# Load your gym environment\n",
    "# Default\n",
    "#env = gym.make(\"CartPole-v1\")\n",
    "# Method for rendering in colab\n",
    "#env = wrap_env(gym.make(\"CartPole-v1\"))\n",
    "env = wrap_env(gym.make(\"MountainCar-v0\"))"
   ]
  },
  {
   "cell_type": "code",
   "execution_count": null,
   "metadata": {
    "id": "qNbO8FW0f-fg"
   },
   "outputs": [],
   "source": [
    "# Reset and return to original state\n",
    "observation = env.reset()"
   ]
  },
  {
   "cell_type": "code",
   "execution_count": null,
   "metadata": {
    "id": "VvuKp8NWf-fq"
   },
   "outputs": [],
   "source": [
    "# Visualize the problem\n",
    "\n",
    "observation = env.reset()\n",
    "\n",
    "while True:\n",
    "  \n",
    "    env.render()\n",
    "    \n",
    "    #your agent goes here\n",
    "    action = env.action_space.sample() \n",
    "         \n",
    "    observation, reward, done, info = env.step(action) \n",
    "   \n",
    "        \n",
    "    if done: \n",
    "      break;\n",
    "            \n",
    "env.close()\n",
    "show_video()"
   ]
  },
  {
   "cell_type": "code",
   "execution_count": null,
   "metadata": {
    "id": "3sDxSkR2f-fk"
   },
   "outputs": [],
   "source": [
    "# Reference: https://github.com/openai/gym/wiki\n",
    "print(\"Action Space {}\".format(env.action_space))\n",
    "# Actions: Move Left or Right\n",
    "print(\"State Space {}\".format(env.observation_space))\n",
    "# Observations: [position of cart, velocity of cart, angle of pole, rotation rate of pole]"
   ]
  },
  {
   "cell_type": "code",
   "execution_count": null,
   "metadata": {
    "id": "pXnq7UMVf-fl"
   },
   "outputs": [],
   "source": [
    "state, reward, done, info = env.step(0)\n",
    "print(\"State: {}\".format(state))\n",
    "print(\"Reward: {}\".format(reward))\n",
    "print(\"Done: {}\".format(done))\n",
    "print(\"Info: {}\".format(info))"
   ]
  },
  {
   "cell_type": "code",
   "execution_count": null,
   "metadata": {
    "id": "fUKTzZEMf-fn"
   },
   "outputs": [],
   "source": [
    "for i in range(10):\n",
    "    state, reward, done, info = env.step(0)\n",
    "    print(\"State: {}\".format(state))\n",
    "    print(\"Reward: {}\".format(reward))\n",
    "    print(\"Done: {}\".format(done))\n",
    "    print(\"Info: {}\".format(info))"
   ]
  },
  {
   "cell_type": "markdown",
   "metadata": {
    "id": "zX4hYV5xf-fp"
   },
   "source": [
    "### You can't keep track of all possible observation state values as they are quite dynamic. \n",
    "### Here is where DQN comes into play"
   ]
  },
  {
   "cell_type": "code",
   "execution_count": null,
   "metadata": {
    "id": "o3v5xQUiXiqU"
   },
   "outputs": [],
   "source": []
  }
 ],
 "metadata": {
  "colab": {
   "name": "RL.ipynb",
   "provenance": []
  },
  "kernelspec": {
   "display_name": "Python 3",
   "language": "python",
   "name": "python3"
  },
  "language_info": {
   "codemirror_mode": {
    "name": "ipython",
    "version": 3
   },
   "file_extension": ".py",
   "mimetype": "text/x-python",
   "name": "python",
   "nbconvert_exporter": "python",
   "pygments_lexer": "ipython3",
   "version": "3.9.4"
  }
 },
 "nbformat": 4,
 "nbformat_minor": 1
}
